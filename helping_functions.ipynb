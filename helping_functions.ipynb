{
  "nbformat": 4,
  "nbformat_minor": 0,
  "metadata": {
    "colab": {
      "provenance": []
    },
    "kernelspec": {
      "name": "python3",
      "display_name": "Python 3"
    },
    "language_info": {
      "name": "python"
    }
  },
  "cells": [
    {
      "cell_type": "code",
      "execution_count": null,
      "metadata": {
        "id": "4JDMlElAYpsP"
      },
      "outputs": [],
      "source": [
        "import itertools\n",
        "from sklearn.metrics import confusion_matrix\n",
        "import matplotlib.pyplot as plt\n",
        "import numpy as np\n",
        "def make_confusion_matrix(y_true,y_pred,classes=None,figsize=(10,10),text_size=15):\n",
        "\n",
        "  #create the confusion matrix\n",
        "  cm = confusion_matrix(y_true,y_pred)\n",
        "  cm_norm = cm.astype(\"float\")/cm.sum(axis=1)[:,np.newaxis]\n",
        "  n_classes=cm.shape[0]\n",
        "\n",
        "  #let pretty it\n",
        "  fig , ax = plt.subplots(figsize=figsize)\n",
        "  #create the matrix plot\n",
        "  cax = ax.matshow(cm,cmap=plt.cm.Blues)\n",
        "  fig.colorbar(cax)\n",
        "\n",
        "  #set labels to classes\n",
        "  if classes:\n",
        "    labels = classes\n",
        "  else:\n",
        "    labels = np.arange(cm.shape[0])\n",
        "\n",
        "  ax.set(title=\"Confusion Matrix\",\n",
        "        xlabel=\"Predicted Label\",\n",
        "        ylabel=\"True Label\",\n",
        "        xticks=np.arange(n_classes),\n",
        "        yticks=np.arange(n_classes),\n",
        "        xticklabels=labels,\n",
        "        yticklabels=labels)\n",
        "\n",
        "  #set x-axis labels to bottom\n",
        "  ax.xaxis.set_label_position(\"bottom\")\n",
        "  ax.xaxis.tick_bottom()\n",
        "\n",
        "  #Adjust label size\n",
        "  ax.yaxis.label.set_size(text_size)\n",
        "  ax.xaxis.label.set_size(text_size)\n",
        "  ax.title.set_size(text_size)\n",
        "\n",
        "  #set threshold for different colors\n",
        "  threshold = (cm.max() + cm.min()) / 2\n",
        "\n",
        "  for i, j in itertools.product(range(cm.shape[0]) , range(cm.shape[1])):\n",
        "    plt.text(j ,i ,f\"{cm[i,j]} ({cm_norm[i,j]*100:.1f}%)\",\n",
        "            horizontalalignment=\"center\",\n",
        "            color=\"white\" if cm[i,j]>threshold else \"black\",\n",
        "            size=text_size)"
      ]
    },
    {
      "cell_type": "code",
      "source": [
        "import random\n",
        "import tensorflow as tf\n",
        "def plot_random_image(model, images, true_labels,classes):\n",
        "  \"\"\"\n",
        "  Picks a random image, plots it and labels it with a prediction and truth label.\n",
        "  \"\"\"\n",
        "\n",
        "\n",
        "  #set up random integer\n",
        "  index = random.randint(0,len(images))\n",
        "\n",
        "  #create predictions and target\n",
        "  target_image = images[index]\n",
        "  pred_probs = model.predict(target_image.reshape(1,28,28))\n",
        "  pred_label = classes[pred_probs.argmax()]\n",
        "  true_label = classes[true_labels[index]]\n",
        "\n",
        "  #plot the image\n",
        "  plt.imshow(target_image,cmap=plt.cm.binary)\n",
        "\n",
        "  #change the color of titiles depending on if the prediction is right or wrong\n",
        "  if pred_label == true_label:\n",
        "    color = \"green\"\n",
        "  else:\n",
        "    color = \"red\"\n",
        "\n",
        "  # Add xlabel information (prediction/true label)\n",
        "\n",
        "  plt.xlabel(\"Pred: {} {:2.0f}% (True: {})\".format(pred_label,\n",
        "                                                   100*tf.reduce_max(pred_probs),\n",
        "                                                   true_label),\n",
        "             color = color)\n"
      ],
      "metadata": {
        "id": "V5e0wUXxZPYs"
      },
      "execution_count": null,
      "outputs": []
    },
    {
      "cell_type": "code",
      "source": [
        "lr=1e-3*10**(tf.range(40)/20)\n",
        "def make_learning_plot(lr,history):\n",
        "  plt.semilogx(lr,history.history['loss'])\n",
        "  plt.xlabel(\"Learning rate\")\n",
        "  plt.ylabel(\"Loss\")\n",
        "  plt.title(\"Finding the ideal learning rate\")"
      ],
      "metadata": {
        "id": "64mAy1rtbMK9"
      },
      "execution_count": null,
      "outputs": []
    }
  ]
}